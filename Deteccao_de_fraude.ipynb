{
 "cells": [
  {
   "cell_type": "markdown",
   "id": "KafKn6o7mQK6",
   "metadata": {
    "id": "KafKn6o7mQK6"
   },
   "source": [
    "# Importando as bibliotecas"
   ]
  },
  {
   "cell_type": "code",
   "execution_count": 1,
   "id": "f6020553",
   "metadata": {
    "id": "f6020553"
   },
   "outputs": [],
   "source": [
    "import pandas as pd\n",
    "import numpy as np\n",
    "from sklearn.metrics import precision_score\n",
    "from sklearn.model_selection import train_test_split"
   ]
  },
  {
   "cell_type": "markdown",
   "id": "-fCRI2JKoRRN",
   "metadata": {
    "id": "-fCRI2JKoRRN"
   },
   "source": [
    "# Importando os dados\n",
    "<br>\n",
    "A base de dados foi escolhido no Kaggle no seguinte link <br>\n",
    "(https://www.kaggle.com/datasets/mlg-ulb/creditcardfraud)"
   ]
  },
  {
   "cell_type": "code",
   "execution_count": 2,
   "id": "nERRvVBbd2-D",
   "metadata": {
    "colab": {
     "background_save": true,
     "base_uri": "https://localhost:8080/"
    },
    "id": "nERRvVBbd2-D",
    "outputId": "f3dbe8cf-473f-49d8-9d6e-af057db91065"
   },
   "outputs": [],
   "source": [
    "df = pd.read_csv('creditcard.csv')"
   ]
  },
  {
   "cell_type": "markdown",
   "id": "pMHiQ831msw9",
   "metadata": {
    "id": "pMHiQ831msw9"
   },
   "source": [
    "## Verificando os dados"
   ]
  },
  {
   "cell_type": "markdown",
   "id": "oaivOOtmnPe_",
   "metadata": {
    "id": "oaivOOtmnPe_"
   },
   "source": [
    "Verificando se há dados faltantes"
   ]
  },
  {
   "cell_type": "code",
   "execution_count": 3,
   "id": "l3SanhxnnINB",
   "metadata": {
    "colab": {
     "background_save": true
    },
    "id": "l3SanhxnnINB"
   },
   "outputs": [
    {
     "data": {
      "text/html": [
       "<div>\n",
       "<style scoped>\n",
       "    .dataframe tbody tr th:only-of-type {\n",
       "        vertical-align: middle;\n",
       "    }\n",
       "\n",
       "    .dataframe tbody tr th {\n",
       "        vertical-align: top;\n",
       "    }\n",
       "\n",
       "    .dataframe thead th {\n",
       "        text-align: right;\n",
       "    }\n",
       "</style>\n",
       "<table border=\"1\" class=\"dataframe\">\n",
       "  <thead>\n",
       "    <tr style=\"text-align: right;\">\n",
       "      <th></th>\n",
       "      <th>Time</th>\n",
       "      <th>V1</th>\n",
       "      <th>V2</th>\n",
       "      <th>V3</th>\n",
       "      <th>V4</th>\n",
       "      <th>V5</th>\n",
       "      <th>V6</th>\n",
       "      <th>V7</th>\n",
       "      <th>V8</th>\n",
       "      <th>V9</th>\n",
       "      <th>...</th>\n",
       "      <th>V21</th>\n",
       "      <th>V22</th>\n",
       "      <th>V23</th>\n",
       "      <th>V24</th>\n",
       "      <th>V25</th>\n",
       "      <th>V26</th>\n",
       "      <th>V27</th>\n",
       "      <th>V28</th>\n",
       "      <th>Amount</th>\n",
       "      <th>Class</th>\n",
       "    </tr>\n",
       "  </thead>\n",
       "  <tbody>\n",
       "    <tr>\n",
       "      <th>0</th>\n",
       "      <td>0.0</td>\n",
       "      <td>-1.359807</td>\n",
       "      <td>-0.072781</td>\n",
       "      <td>2.536347</td>\n",
       "      <td>1.378155</td>\n",
       "      <td>-0.338321</td>\n",
       "      <td>0.462388</td>\n",
       "      <td>0.239599</td>\n",
       "      <td>0.098698</td>\n",
       "      <td>0.363787</td>\n",
       "      <td>...</td>\n",
       "      <td>-0.018307</td>\n",
       "      <td>0.277838</td>\n",
       "      <td>-0.110474</td>\n",
       "      <td>0.066928</td>\n",
       "      <td>0.128539</td>\n",
       "      <td>-0.189115</td>\n",
       "      <td>0.133558</td>\n",
       "      <td>-0.021053</td>\n",
       "      <td>149.62</td>\n",
       "      <td>0</td>\n",
       "    </tr>\n",
       "    <tr>\n",
       "      <th>1</th>\n",
       "      <td>0.0</td>\n",
       "      <td>1.191857</td>\n",
       "      <td>0.266151</td>\n",
       "      <td>0.166480</td>\n",
       "      <td>0.448154</td>\n",
       "      <td>0.060018</td>\n",
       "      <td>-0.082361</td>\n",
       "      <td>-0.078803</td>\n",
       "      <td>0.085102</td>\n",
       "      <td>-0.255425</td>\n",
       "      <td>...</td>\n",
       "      <td>-0.225775</td>\n",
       "      <td>-0.638672</td>\n",
       "      <td>0.101288</td>\n",
       "      <td>-0.339846</td>\n",
       "      <td>0.167170</td>\n",
       "      <td>0.125895</td>\n",
       "      <td>-0.008983</td>\n",
       "      <td>0.014724</td>\n",
       "      <td>2.69</td>\n",
       "      <td>0</td>\n",
       "    </tr>\n",
       "    <tr>\n",
       "      <th>2</th>\n",
       "      <td>1.0</td>\n",
       "      <td>-1.358354</td>\n",
       "      <td>-1.340163</td>\n",
       "      <td>1.773209</td>\n",
       "      <td>0.379780</td>\n",
       "      <td>-0.503198</td>\n",
       "      <td>1.800499</td>\n",
       "      <td>0.791461</td>\n",
       "      <td>0.247676</td>\n",
       "      <td>-1.514654</td>\n",
       "      <td>...</td>\n",
       "      <td>0.247998</td>\n",
       "      <td>0.771679</td>\n",
       "      <td>0.909412</td>\n",
       "      <td>-0.689281</td>\n",
       "      <td>-0.327642</td>\n",
       "      <td>-0.139097</td>\n",
       "      <td>-0.055353</td>\n",
       "      <td>-0.059752</td>\n",
       "      <td>378.66</td>\n",
       "      <td>0</td>\n",
       "    </tr>\n",
       "    <tr>\n",
       "      <th>3</th>\n",
       "      <td>1.0</td>\n",
       "      <td>-0.966272</td>\n",
       "      <td>-0.185226</td>\n",
       "      <td>1.792993</td>\n",
       "      <td>-0.863291</td>\n",
       "      <td>-0.010309</td>\n",
       "      <td>1.247203</td>\n",
       "      <td>0.237609</td>\n",
       "      <td>0.377436</td>\n",
       "      <td>-1.387024</td>\n",
       "      <td>...</td>\n",
       "      <td>-0.108300</td>\n",
       "      <td>0.005274</td>\n",
       "      <td>-0.190321</td>\n",
       "      <td>-1.175575</td>\n",
       "      <td>0.647376</td>\n",
       "      <td>-0.221929</td>\n",
       "      <td>0.062723</td>\n",
       "      <td>0.061458</td>\n",
       "      <td>123.50</td>\n",
       "      <td>0</td>\n",
       "    </tr>\n",
       "    <tr>\n",
       "      <th>4</th>\n",
       "      <td>2.0</td>\n",
       "      <td>-1.158233</td>\n",
       "      <td>0.877737</td>\n",
       "      <td>1.548718</td>\n",
       "      <td>0.403034</td>\n",
       "      <td>-0.407193</td>\n",
       "      <td>0.095921</td>\n",
       "      <td>0.592941</td>\n",
       "      <td>-0.270533</td>\n",
       "      <td>0.817739</td>\n",
       "      <td>...</td>\n",
       "      <td>-0.009431</td>\n",
       "      <td>0.798278</td>\n",
       "      <td>-0.137458</td>\n",
       "      <td>0.141267</td>\n",
       "      <td>-0.206010</td>\n",
       "      <td>0.502292</td>\n",
       "      <td>0.219422</td>\n",
       "      <td>0.215153</td>\n",
       "      <td>69.99</td>\n",
       "      <td>0</td>\n",
       "    </tr>\n",
       "    <tr>\n",
       "      <th>...</th>\n",
       "      <td>...</td>\n",
       "      <td>...</td>\n",
       "      <td>...</td>\n",
       "      <td>...</td>\n",
       "      <td>...</td>\n",
       "      <td>...</td>\n",
       "      <td>...</td>\n",
       "      <td>...</td>\n",
       "      <td>...</td>\n",
       "      <td>...</td>\n",
       "      <td>...</td>\n",
       "      <td>...</td>\n",
       "      <td>...</td>\n",
       "      <td>...</td>\n",
       "      <td>...</td>\n",
       "      <td>...</td>\n",
       "      <td>...</td>\n",
       "      <td>...</td>\n",
       "      <td>...</td>\n",
       "      <td>...</td>\n",
       "      <td>...</td>\n",
       "    </tr>\n",
       "    <tr>\n",
       "      <th>284802</th>\n",
       "      <td>172786.0</td>\n",
       "      <td>-11.881118</td>\n",
       "      <td>10.071785</td>\n",
       "      <td>-9.834783</td>\n",
       "      <td>-2.066656</td>\n",
       "      <td>-5.364473</td>\n",
       "      <td>-2.606837</td>\n",
       "      <td>-4.918215</td>\n",
       "      <td>7.305334</td>\n",
       "      <td>1.914428</td>\n",
       "      <td>...</td>\n",
       "      <td>0.213454</td>\n",
       "      <td>0.111864</td>\n",
       "      <td>1.014480</td>\n",
       "      <td>-0.509348</td>\n",
       "      <td>1.436807</td>\n",
       "      <td>0.250034</td>\n",
       "      <td>0.943651</td>\n",
       "      <td>0.823731</td>\n",
       "      <td>0.77</td>\n",
       "      <td>0</td>\n",
       "    </tr>\n",
       "    <tr>\n",
       "      <th>284803</th>\n",
       "      <td>172787.0</td>\n",
       "      <td>-0.732789</td>\n",
       "      <td>-0.055080</td>\n",
       "      <td>2.035030</td>\n",
       "      <td>-0.738589</td>\n",
       "      <td>0.868229</td>\n",
       "      <td>1.058415</td>\n",
       "      <td>0.024330</td>\n",
       "      <td>0.294869</td>\n",
       "      <td>0.584800</td>\n",
       "      <td>...</td>\n",
       "      <td>0.214205</td>\n",
       "      <td>0.924384</td>\n",
       "      <td>0.012463</td>\n",
       "      <td>-1.016226</td>\n",
       "      <td>-0.606624</td>\n",
       "      <td>-0.395255</td>\n",
       "      <td>0.068472</td>\n",
       "      <td>-0.053527</td>\n",
       "      <td>24.79</td>\n",
       "      <td>0</td>\n",
       "    </tr>\n",
       "    <tr>\n",
       "      <th>284804</th>\n",
       "      <td>172788.0</td>\n",
       "      <td>1.919565</td>\n",
       "      <td>-0.301254</td>\n",
       "      <td>-3.249640</td>\n",
       "      <td>-0.557828</td>\n",
       "      <td>2.630515</td>\n",
       "      <td>3.031260</td>\n",
       "      <td>-0.296827</td>\n",
       "      <td>0.708417</td>\n",
       "      <td>0.432454</td>\n",
       "      <td>...</td>\n",
       "      <td>0.232045</td>\n",
       "      <td>0.578229</td>\n",
       "      <td>-0.037501</td>\n",
       "      <td>0.640134</td>\n",
       "      <td>0.265745</td>\n",
       "      <td>-0.087371</td>\n",
       "      <td>0.004455</td>\n",
       "      <td>-0.026561</td>\n",
       "      <td>67.88</td>\n",
       "      <td>0</td>\n",
       "    </tr>\n",
       "    <tr>\n",
       "      <th>284805</th>\n",
       "      <td>172788.0</td>\n",
       "      <td>-0.240440</td>\n",
       "      <td>0.530483</td>\n",
       "      <td>0.702510</td>\n",
       "      <td>0.689799</td>\n",
       "      <td>-0.377961</td>\n",
       "      <td>0.623708</td>\n",
       "      <td>-0.686180</td>\n",
       "      <td>0.679145</td>\n",
       "      <td>0.392087</td>\n",
       "      <td>...</td>\n",
       "      <td>0.265245</td>\n",
       "      <td>0.800049</td>\n",
       "      <td>-0.163298</td>\n",
       "      <td>0.123205</td>\n",
       "      <td>-0.569159</td>\n",
       "      <td>0.546668</td>\n",
       "      <td>0.108821</td>\n",
       "      <td>0.104533</td>\n",
       "      <td>10.00</td>\n",
       "      <td>0</td>\n",
       "    </tr>\n",
       "    <tr>\n",
       "      <th>284806</th>\n",
       "      <td>172792.0</td>\n",
       "      <td>-0.533413</td>\n",
       "      <td>-0.189733</td>\n",
       "      <td>0.703337</td>\n",
       "      <td>-0.506271</td>\n",
       "      <td>-0.012546</td>\n",
       "      <td>-0.649617</td>\n",
       "      <td>1.577006</td>\n",
       "      <td>-0.414650</td>\n",
       "      <td>0.486180</td>\n",
       "      <td>...</td>\n",
       "      <td>0.261057</td>\n",
       "      <td>0.643078</td>\n",
       "      <td>0.376777</td>\n",
       "      <td>0.008797</td>\n",
       "      <td>-0.473649</td>\n",
       "      <td>-0.818267</td>\n",
       "      <td>-0.002415</td>\n",
       "      <td>0.013649</td>\n",
       "      <td>217.00</td>\n",
       "      <td>0</td>\n",
       "    </tr>\n",
       "  </tbody>\n",
       "</table>\n",
       "<p>284807 rows × 31 columns</p>\n",
       "</div>"
      ],
      "text/plain": [
       "            Time         V1         V2        V3        V4        V5   \n",
       "0            0.0  -1.359807  -0.072781  2.536347  1.378155 -0.338321  \\\n",
       "1            0.0   1.191857   0.266151  0.166480  0.448154  0.060018   \n",
       "2            1.0  -1.358354  -1.340163  1.773209  0.379780 -0.503198   \n",
       "3            1.0  -0.966272  -0.185226  1.792993 -0.863291 -0.010309   \n",
       "4            2.0  -1.158233   0.877737  1.548718  0.403034 -0.407193   \n",
       "...          ...        ...        ...       ...       ...       ...   \n",
       "284802  172786.0 -11.881118  10.071785 -9.834783 -2.066656 -5.364473   \n",
       "284803  172787.0  -0.732789  -0.055080  2.035030 -0.738589  0.868229   \n",
       "284804  172788.0   1.919565  -0.301254 -3.249640 -0.557828  2.630515   \n",
       "284805  172788.0  -0.240440   0.530483  0.702510  0.689799 -0.377961   \n",
       "284806  172792.0  -0.533413  -0.189733  0.703337 -0.506271 -0.012546   \n",
       "\n",
       "              V6        V7        V8        V9  ...       V21       V22   \n",
       "0       0.462388  0.239599  0.098698  0.363787  ... -0.018307  0.277838  \\\n",
       "1      -0.082361 -0.078803  0.085102 -0.255425  ... -0.225775 -0.638672   \n",
       "2       1.800499  0.791461  0.247676 -1.514654  ...  0.247998  0.771679   \n",
       "3       1.247203  0.237609  0.377436 -1.387024  ... -0.108300  0.005274   \n",
       "4       0.095921  0.592941 -0.270533  0.817739  ... -0.009431  0.798278   \n",
       "...          ...       ...       ...       ...  ...       ...       ...   \n",
       "284802 -2.606837 -4.918215  7.305334  1.914428  ...  0.213454  0.111864   \n",
       "284803  1.058415  0.024330  0.294869  0.584800  ...  0.214205  0.924384   \n",
       "284804  3.031260 -0.296827  0.708417  0.432454  ...  0.232045  0.578229   \n",
       "284805  0.623708 -0.686180  0.679145  0.392087  ...  0.265245  0.800049   \n",
       "284806 -0.649617  1.577006 -0.414650  0.486180  ...  0.261057  0.643078   \n",
       "\n",
       "             V23       V24       V25       V26       V27       V28  Amount   \n",
       "0      -0.110474  0.066928  0.128539 -0.189115  0.133558 -0.021053  149.62  \\\n",
       "1       0.101288 -0.339846  0.167170  0.125895 -0.008983  0.014724    2.69   \n",
       "2       0.909412 -0.689281 -0.327642 -0.139097 -0.055353 -0.059752  378.66   \n",
       "3      -0.190321 -1.175575  0.647376 -0.221929  0.062723  0.061458  123.50   \n",
       "4      -0.137458  0.141267 -0.206010  0.502292  0.219422  0.215153   69.99   \n",
       "...          ...       ...       ...       ...       ...       ...     ...   \n",
       "284802  1.014480 -0.509348  1.436807  0.250034  0.943651  0.823731    0.77   \n",
       "284803  0.012463 -1.016226 -0.606624 -0.395255  0.068472 -0.053527   24.79   \n",
       "284804 -0.037501  0.640134  0.265745 -0.087371  0.004455 -0.026561   67.88   \n",
       "284805 -0.163298  0.123205 -0.569159  0.546668  0.108821  0.104533   10.00   \n",
       "284806  0.376777  0.008797 -0.473649 -0.818267 -0.002415  0.013649  217.00   \n",
       "\n",
       "        Class  \n",
       "0           0  \n",
       "1           0  \n",
       "2           0  \n",
       "3           0  \n",
       "4           0  \n",
       "...       ...  \n",
       "284802      0  \n",
       "284803      0  \n",
       "284804      0  \n",
       "284805      0  \n",
       "284806      0  \n",
       "\n",
       "[284807 rows x 31 columns]"
      ]
     },
     "execution_count": 3,
     "metadata": {},
     "output_type": "execute_result"
    }
   ],
   "source": [
    "df"
   ]
  },
  {
   "cell_type": "markdown",
   "id": "56GfOl61tvwq",
   "metadata": {
    "id": "56GfOl61tvwq"
   },
   "source": [
    "O dataset foi tratado com um metodo de redução de dimensionalidade e alterou o nome da coluna para proteger os dados dos clientes"
   ]
  },
  {
   "cell_type": "code",
   "execution_count": 4,
   "id": "qFOyBd07nJkB",
   "metadata": {
    "colab": {
     "background_save": true
    },
    "id": "qFOyBd07nJkB"
   },
   "outputs": [
    {
     "data": {
      "text/plain": [
       "Time      0\n",
       "V1        0\n",
       "V2        0\n",
       "V3        0\n",
       "V4        0\n",
       "V5        0\n",
       "V6        0\n",
       "V7        0\n",
       "V8        0\n",
       "V9        0\n",
       "V10       0\n",
       "V11       0\n",
       "V12       0\n",
       "V13       0\n",
       "V14       0\n",
       "V15       0\n",
       "V16       0\n",
       "V17       0\n",
       "V18       0\n",
       "V19       0\n",
       "V20       0\n",
       "V21       0\n",
       "V22       0\n",
       "V23       0\n",
       "V24       0\n",
       "V25       0\n",
       "V26       0\n",
       "V27       0\n",
       "V28       0\n",
       "Amount    0\n",
       "Class     0\n",
       "dtype: int64"
      ]
     },
     "execution_count": 4,
     "metadata": {},
     "output_type": "execute_result"
    }
   ],
   "source": [
    "df.isna().sum()"
   ]
  },
  {
   "cell_type": "markdown",
   "id": "PKqgoYsdnSn9",
   "metadata": {
    "id": "PKqgoYsdnSn9"
   },
   "source": [
    "Aqui estou inspecionando para ver o balanceamento dos dados"
   ]
  },
  {
   "cell_type": "code",
   "execution_count": 5,
   "id": "e160f6ba",
   "metadata": {
    "colab": {
     "background_save": true
    },
    "id": "e160f6ba",
    "scrolled": true
   },
   "outputs": [
    {
     "data": {
      "text/plain": [
       "Class\n",
       "0    284315\n",
       "1       492\n",
       "Name: count, dtype: int64"
      ]
     },
     "execution_count": 5,
     "metadata": {},
     "output_type": "execute_result"
    }
   ],
   "source": [
    "df.Class.value_counts()"
   ]
  },
  {
   "cell_type": "markdown",
   "id": "uZ8gY_lKnbx6",
   "metadata": {
    "id": "uZ8gY_lKnbx6"
   },
   "source": [
    "Como podemos ver ela é extremamente desbalanceada. É necessário alguma tecnica de imblearn. Alguns metodos são:Gerar dados sinteticos, Oversampling ou undersampling para assim aumentar ou diminuir frequência de uma classe nesse notebook optei por oversampling com geração de dados sinteticos. Eu usei a função SMOTE que gera um oversampling com dados sinteticos."
   ]
  },
  {
   "cell_type": "code",
   "execution_count": 6,
   "id": "9f726d58",
   "metadata": {
    "colab": {
     "background_save": true
    },
    "id": "9f726d58"
   },
   "outputs": [],
   "source": [
    "ys = df.Class.value_counts().loc[1] / df.Class.value_counts().sum()"
   ]
  },
  {
   "cell_type": "code",
   "execution_count": 7,
   "id": "c71143b8",
   "metadata": {
    "colab": {
     "background_save": true
    },
    "id": "c71143b8"
   },
   "outputs": [
    {
     "data": {
      "text/plain": [
       "0.001727485630620034"
      ]
     },
     "execution_count": 7,
     "metadata": {},
     "output_type": "execute_result"
    }
   ],
   "source": [
    "ys"
   ]
  },
  {
   "cell_type": "markdown",
   "id": "oyJuFJKHn7BS",
   "metadata": {
    "id": "oyJuFJKHn7BS"
   },
   "source": [
    "# Preparando os dados para o oversampling"
   ]
  },
  {
   "cell_type": "code",
   "execution_count": 8,
   "id": "75d7f9e8",
   "metadata": {
    "colab": {
     "background_save": true
    },
    "id": "75d7f9e8"
   },
   "outputs": [],
   "source": [
    "X = df.drop(columns = 'Class')\n",
    "y = df.Class\n",
    "\n",
    "X_train, X_val, y_train, y_val = train_test_split(X, y, stratify = df.Class)"
   ]
  },
  {
   "cell_type": "markdown",
   "id": "7jFOODcnpGpN",
   "metadata": {
    "id": "7jFOODcnpGpN"
   },
   "source": [
    "Aqui importo a biblioteca imblearn e busco a função SMOTE"
   ]
  },
  {
   "cell_type": "code",
   "execution_count": 9,
   "id": "d53ce84c",
   "metadata": {
    "id": "d53ce84c"
   },
   "outputs": [],
   "source": [
    "from imblearn.over_sampling import SMOTE"
   ]
  },
  {
   "cell_type": "markdown",
   "id": "lG47eP4aqDrN",
   "metadata": {
    "id": "lG47eP4aqDrN"
   },
   "source": [
    "A função SMOTE deve ser aplicada apenas na parte de treinamento dos dados para treinar o modelo o que é uma fraude ou não"
   ]
  },
  {
   "cell_type": "code",
   "execution_count": 10,
   "id": "a6cfe592",
   "metadata": {
    "colab": {
     "background_save": true
    },
    "id": "a6cfe592"
   },
   "outputs": [],
   "source": [
    "X_train_over, y_train_over = SMOTE().fit_resample(X_train, y_train)"
   ]
  },
  {
   "cell_type": "markdown",
   "id": "f81NxVHHqU5W",
   "metadata": {
    "id": "f81NxVHHqU5W"
   },
   "source": [
    "Aqui import o modelo que desejo. Eu usei o RandomForestClassifier ao enves do modelo XGBoostClassifier por um motivo ele é mais simples que o XGBoost e isso gera menos overfit. Como há poucos é possivel que ocorra um underfit ou overfit no XGBoost"
   ]
  },
  {
   "cell_type": "code",
   "execution_count": 11,
   "id": "c7d918bc",
   "metadata": {
    "colab": {
     "background_save": true
    },
    "id": "c7d918bc"
   },
   "outputs": [],
   "source": [
    "from sklearn.ensemble import RandomForestClassifier"
   ]
  },
  {
   "cell_type": "code",
   "execution_count": 12,
   "id": "8baea9c4",
   "metadata": {
    "colab": {
     "background_save": true
    },
    "id": "8baea9c4"
   },
   "outputs": [],
   "source": [
    "from sklearn.metrics import f1_score"
   ]
  },
  {
   "cell_type": "markdown",
   "id": "KkUCEhgwrFSh",
   "metadata": {
    "id": "KkUCEhgwrFSh"
   },
   "source": [
    "Usei o f1_score pois ele é a média harmonica da precisão e recall assim tendo uma noção do balanceamento das métricas. Nesse projeto é mais importante que o recall seja alto para evitar falsos negativos. Quanto maior o recall mais fraudes são detectadas corretamente e menos falsos negativos ocorrem"
   ]
  },
  {
   "cell_type": "code",
   "execution_count": 14,
   "id": "f19579b1",
   "metadata": {
    "colab": {
     "background_save": true
    },
    "id": "f19579b1"
   },
   "outputs": [
    {
     "data": {
      "text/plain": [
       "0.8523206751054853"
      ]
     },
     "execution_count": 14,
     "metadata": {},
     "output_type": "execute_result"
    }
   ],
   "source": [
    "modelo = RandomForestClassifier()\n",
    "modelo.fit(X_train_over, y_train_over)\n",
    "pred = modelo.predict(X_val)\n",
    "pred_proba = modelo.predict_proba(X_val)[:,1]\n",
    "f1 = f1_score(y_val, pred)\n",
    "f1"
   ]
  },
  {
   "cell_type": "code",
   "execution_count": 15,
   "id": "d672a4a1",
   "metadata": {
    "colab": {
     "background_save": true
    },
    "id": "d672a4a1"
   },
   "outputs": [],
   "source": [
    "from sklearn.metrics import recall_score"
   ]
  },
  {
   "cell_type": "markdown",
   "id": "IeTSq5Xsr2-0",
   "metadata": {
    "id": "IeTSq5Xsr2-0"
   },
   "source": [
    "Aqui podemos ver que o modelo tem um recall de 82,11% o que torna muito superior a baseline de apenas chutar que não há nenhuma fraude"
   ]
  },
  {
   "cell_type": "code",
   "execution_count": 16,
   "id": "8ec65f6a",
   "metadata": {
    "colab": {
     "background_save": true
    },
    "id": "8ec65f6a"
   },
   "outputs": [
    {
     "name": "stdout",
     "output_type": "stream",
     "text": [
      "82.11\n"
     ]
    }
   ],
   "source": [
    "resultado = recall_score(y_val, pred)\n",
    "print(f'{resultado * 100:.2f}')"
   ]
  },
  {
   "cell_type": "markdown",
   "id": "NTaafH4lsESo",
   "metadata": {
    "id": "NTaafH4lsESo"
   },
   "source": [
    "# ROC e AUC score"
   ]
  },
  {
   "cell_type": "code",
   "execution_count": 17,
   "id": "OZYhT0lfHfVm",
   "metadata": {
    "id": "OZYhT0lfHfVm"
   },
   "outputs": [],
   "source": [
    "from scikitplot.metrics import plot_roc\n",
    "import matplotlib.pyplot as plt\n",
    "from sklearn.metrics import roc_curve"
   ]
  },
  {
   "cell_type": "markdown",
   "id": "dbOSx5rZsL4Z",
   "metadata": {
    "id": "dbOSx5rZsL4Z"
   },
   "source": [
    "Aqui é usado o roc para visualizar qual é a melhor opção para o modelo. Nesse caso Quanto menor os falsos positivos melhor. Um falso positivo irá bloquear uma fraude de ocorrer."
   ]
  },
  {
   "cell_type": "code",
   "execution_count": 18,
   "id": "204dd4a2",
   "metadata": {
    "colab": {
     "background_save": true
    },
    "id": "204dd4a2"
   },
   "outputs": [
    {
     "data": {
      "image/png": "[encoded data removed]",
      "text/plain": [
       "<Figure size 640x480 with 1 Axes>"
      ]
     },
     "metadata": {},
     "output_type": "display_data"
    }
   ],
   "source": [
    "fpr, tpr, _ = roc_curve(y_val, pred_proba)\n",
    "plt.plot(fpr, tpr)\n",
    "plt.ylabel('True Positive Rate')\n",
    "plt.xlabel('False Positive Rate')\n",
    "plt.show()"
   ]
  },
  {
   "cell_type": "markdown",
   "id": "WI0XIktUsjf0",
   "metadata": {
    "id": "WI0XIktUsjf0"
   },
   "source": [
    "Podemos ver no gráfico que os verdadeiros positivos chegam bem alto quando se inicia um aumento nos falsos positivos. Mas nesse caso é importante minimizar falsos positivos"
   ]
  },
  {
   "cell_type": "code",
   "execution_count": 19,
   "id": "18240b66",
   "metadata": {
    "id": "18240b66"
   },
   "outputs": [],
   "source": [
    "from sklearn.metrics import roc_auc_score"
   ]
  },
  {
   "cell_type": "code",
   "execution_count": 21,
   "id": "T7rGISiIMk57",
   "metadata": {
    "colab": {
     "background_save": true
    },
    "id": "T7rGISiIMk57"
   },
   "outputs": [
    {
     "data": {
      "text/plain": [
       "0.9844326426212812"
      ]
     },
     "execution_count": 21,
     "metadata": {},
     "output_type": "execute_result"
    }
   ],
   "source": [
    "roc_auc_score(y_val, pred_proba)"
   ]
  },
  {
   "cell_type": "code",
   "execution_count": 22,
   "id": "fbymzahnMtQH",
   "metadata": {
    "colab": {
     "background_save": true
    },
    "id": "fbymzahnMtQH"
   },
   "outputs": [
    {
     "data": {
      "text/plain": [
       "0.9870034681438278"
      ]
     },
     "execution_count": 22,
     "metadata": {},
     "output_type": "execute_result"
    }
   ],
   "source": [
    "modelo_em_tunning = RandomForestClassifier(n_estimators = 300, min_samples_split = 4)\n",
    "modelo_em_tunning.fit(X_train_over, y_train_over)\n",
    "preds = modelo_em_tunning.predict(X_val)\n",
    "pred_proba = modelo_em_tunning.predict_proba(X_val)\n",
    "roc_auc_score(y_val, pred_proba[:, 1])"
   ]
  },
  {
   "cell_type": "markdown",
   "id": "PmXREsfzt-jN",
   "metadata": {
    "id": "PmXREsfzt-jN"
   },
   "source": [
    "Mesmo com um leve ajuste dos hiperparametros não houve um ganho substancial no f1_score. Apenas no AUC score"
   ]
  },
  {
   "cell_type": "code",
   "execution_count": 23,
   "id": "60d7fe24",
   "metadata": {},
   "outputs": [
    {
     "data": {
      "text/plain": [
       "0.8595744680851064"
      ]
     },
     "execution_count": 23,
     "metadata": {},
     "output_type": "execute_result"
    }
   ],
   "source": [
    "f1_score(y_val, preds)"
   ]
  },
  {
   "cell_type": "code",
   "execution_count": 24,
   "id": "f62a05d5",
   "metadata": {},
   "outputs": [
    {
     "data": {
      "text/plain": [
       "0.8211382113821138"
      ]
     },
     "execution_count": 24,
     "metadata": {},
     "output_type": "execute_result"
    }
   ],
   "source": [
    "recall_score(y_val, preds)"
   ]
  },
  {
   "cell_type": "markdown",
   "id": "7a9ba2bf",
   "metadata": {},
   "source": [
    "# Conclusão"
   ]
  },
  {
   "cell_type": "markdown",
   "id": "3b6975f5",
   "metadata": {},
   "source": [
    "Com um método básico de imblearn temos um aumento substancial na nosa baseline. Considerando que ela era chutar que não há fraudes, com essa baseline temos uma precisão de 99,87% de precisão e 0% de recall tendo um f1 score de 0 por ter um recall de 0%. Com um tratamento adequado dos dados tem um ganho alto de f1 score e recall em 84,38% no f1 score e no recall de 81,30%. Com um ajuste de hiperparametros com gridsearch poderia ter resultados bem melhores ou até mesmo usando o XGBoost. Mas optei por simplicidade para não ocorrer overfit nem underfit"
   ]
  }
 ],
 "metadata": {
  "accelerator": "GPU",
  "colab": {
   "provenance": []
  },
  "gpuClass": "premium",
  "kernelspec": {
   "display_name": "Python 3 (ipykernel)",
   "language": "python",
   "name": "python3"
  },
  "language_info": {
   "codemirror_mode": {
    "name": "ipython",
    "version": 3
   },
   "file_extension": ".py",
   "mimetype": "text/x-python",
   "name": "python",
   "nbconvert_exporter": "python",
   "pygments_lexer": "ipython3",
   "version": "3.10.6"
  }
 },
 "nbformat": 4,
 "nbformat_minor": 5
}
